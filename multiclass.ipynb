{
  "nbformat": 4,
  "nbformat_minor": 0,
  "metadata": {
    "colab": {
      "provenance": []
    },
    "kernelspec": {
      "name": "python3",
      "display_name": "Python 3"
    },
    "language_info": {
      "name": "python"
    }
  },
  "cells": [
    {
      "cell_type": "code",
      "execution_count": 3,
      "metadata": {
        "id": "6PM0uQfVO-bq"
      },
      "outputs": [],
      "source": [
        "import numpy as np\n",
        "from initLayers import initLayers\n",
        "from train import train\n",
        "from rna import rna\n",
        "from utils import normalize, splitData, evaluate_multiclass_with_one_hot"
      ]
    },
    {
      "cell_type": "markdown",
      "source": [
        "Carrega dados do dataset"
      ],
      "metadata": {
        "id": "y7ukQjOeRNCH"
      }
    },
    {
      "cell_type": "code",
      "source": [
        "DATASET_PATH = 'penguins.csv'\n",
        "data = np.genfromtxt(DATASET_PATH, delimiter=',', skip_header=1)"
      ],
      "metadata": {
        "id": "__5OhniPRPiz"
      },
      "execution_count": 4,
      "outputs": []
    },
    {
      "cell_type": "markdown",
      "source": [
        "Separa features e labels"
      ],
      "metadata": {
        "id": "4pA2-sY7RSu3"
      }
    },
    {
      "cell_type": "code",
      "source": [
        "features = data[:, :-3]\n",
        "labels = data[:, -3:]"
      ],
      "metadata": {
        "id": "lRY5XblFRVE1"
      },
      "execution_count": 5,
      "outputs": []
    },
    {
      "cell_type": "markdown",
      "source": [
        "Separa dados para treinamento e para validação"
      ],
      "metadata": {
        "id": "ISUkaV7VRW88"
      }
    },
    {
      "cell_type": "code",
      "source": [
        "featuresTrain, featuresVal, labelsTrain, labelsVal = splitData(features, labels)"
      ],
      "metadata": {
        "id": "tDxP3hMbRagF"
      },
      "execution_count": 6,
      "outputs": []
    },
    {
      "cell_type": "markdown",
      "source": [
        "Normaliza features"
      ],
      "metadata": {
        "id": "j0Q-tzTjRd9T"
      }
    },
    {
      "cell_type": "code",
      "source": [
        "normalized_features, feature_scaler = normalize(featuresTrain)"
      ],
      "metadata": {
        "id": "yME8mchBRgK1"
      },
      "execution_count": 7,
      "outputs": []
    },
    {
      "cell_type": "markdown",
      "source": [
        "Combina features e labels e formata observações para treinamento"
      ],
      "metadata": {
        "id": "f1SdYMsOSSyy"
      }
    },
    {
      "cell_type": "code",
      "source": [
        "normalized_data = np.hstack((normalized_features, labelsTrain))\n",
        "observations = [(row[:-labelsTrain.shape[1]], row[-labelsTrain.shape[1]:]) for row in normalized_data]"
      ],
      "metadata": {
        "id": "o96BjcZNRkDQ"
      },
      "execution_count": 10,
      "outputs": []
    },
    {
      "cell_type": "markdown",
      "source": [
        "Define a estrutura da rede, funções de ativação, funções de custo, épocas e learning rate"
      ],
      "metadata": {
        "id": "AqMAzGoGRlpf"
      }
    },
    {
      "cell_type": "code",
      "source": [
        "# Obtém a quantidade de neurons da camada de input\n",
        "INPUT_NEURONS = len(observations[0][0])\n",
        "\n",
        "# Define a estrutura da rede e funções de ativação\n",
        "layers = [\n",
        "    (INPUT_NEURONS, 'RELU'),\n",
        "    #(INPUT_NEURONS, 'RELU'),\n",
        "    (3, 'SOFTMAX')\n",
        "]\n",
        "\n",
        "# Definição função de custo, épocas e learning rate\n",
        "COSTF = \"CATEGORICAL_ENTROPY\"\n",
        "EPOCHS = 50\n",
        "LEARNING_RATE = 0.001"
      ],
      "metadata": {
        "id": "M3T35_6GRtye"
      },
      "execution_count": 11,
      "outputs": []
    },
    {
      "cell_type": "markdown",
      "source": [
        "Inicializa os pesos e as funções das camadas"
      ],
      "metadata": {
        "id": "o-7hMeAWRv4P"
      }
    },
    {
      "cell_type": "code",
      "source": [
        "layers = initLayers(layers, INPUT_NEURONS)"
      ],
      "metadata": {
        "id": "HI-WErCmRz8J"
      },
      "execution_count": 12,
      "outputs": []
    },
    {
      "cell_type": "markdown",
      "source": [
        "Dispara o treinamento da rede"
      ],
      "metadata": {
        "id": "P5K5PdJVR1fL"
      }
    },
    {
      "cell_type": "code",
      "source": [
        "trainedParams = train(EPOCHS, LEARNING_RATE, layers, observations, COSTF)"
      ],
      "metadata": {
        "id": "VZ0h2vWkR5kx"
      },
      "execution_count": 17,
      "outputs": []
    },
    {
      "cell_type": "markdown",
      "source": [
        "Normaliza as features para validação"
      ],
      "metadata": {
        "id": "4FiR8cU2R6PD"
      }
    },
    {
      "cell_type": "code",
      "source": [
        "test_normalized_features = feature_scaler.transform(featuresVal)\n"
      ],
      "metadata": {
        "id": "75pETASaR-dD"
      },
      "execution_count": 18,
      "outputs": []
    },
    {
      "cell_type": "markdown",
      "source": [
        "Testa a rede treinada"
      ],
      "metadata": {
        "id": "H6Zkle-RSBsf"
      }
    },
    {
      "cell_type": "code",
      "source": [
        "predictions = []\n",
        "for i, observation in enumerate(test_normalized_features):\n",
        "\n",
        "  input = observation\n",
        "  prediction = rna(input, trainedParams)\n",
        "\n",
        "  one_hot_prediction = np.zeros_like(prediction)\n",
        "  one_hot_prediction[np.argmax(prediction)] = 1\n",
        "\n",
        "  predictions.append(one_hot_prediction)"
      ],
      "metadata": {
        "id": "mk9q5ANXSE5a"
      },
      "execution_count": 19,
      "outputs": []
    },
    {
      "cell_type": "markdown",
      "source": [
        "Obtém métricas de avaliação"
      ],
      "metadata": {
        "id": "9umz2_T5SHW_"
      }
    },
    {
      "cell_type": "code",
      "source": [
        "metrics = evaluate_multiclass_with_one_hot(labelsVal, predictions)"
      ],
      "metadata": {
        "colab": {
          "base_uri": "https://localhost:8080/"
        },
        "id": "svlXly6ISLHa",
        "outputId": "9810c767-5126-4f4f-c2b8-fa79df3fb210"
      },
      "execution_count": 20,
      "outputs": [
        {
          "output_type": "stream",
          "name": "stdout",
          "text": [
            "Evaluation Metrics:\n",
            "accuracy: 0.9855\n",
            "precision: 0.9860\n",
            "confusion_matrix:\n",
            "[[29  0  0]\n",
            " [ 1 10  0]\n",
            " [ 0  0 29]]\n"
          ]
        }
      ]
    }
  ]
}