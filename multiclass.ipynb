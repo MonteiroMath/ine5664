{
 "cells": [
  {
   "cell_type": "code",
   "execution_count": 1,
   "metadata": {
    "id": "6PM0uQfVO-bq"
   },
   "outputs": [],
   "source": [
    "import numpy as np\n",
    "from initLayers import initLayers\n",
    "from train import train\n",
    "from rna import rna\n",
    "from utils import normalize, splitData, evaluate_multiclass_with_one_hot"
   ]
  },
  {
   "cell_type": "markdown",
   "metadata": {
    "id": "y7ukQjOeRNCH"
   },
   "source": [
    "Carrega dados do dataset:"
   ]
  },
  {
   "cell_type": "code",
   "execution_count": 2,
   "metadata": {
    "id": "__5OhniPRPiz"
   },
   "outputs": [],
   "source": [
    "DATASET_PATH = 'penguins.csv'\n",
    "data = np.genfromtxt(DATASET_PATH, delimiter=',', skip_header=1)"
   ]
  },
  {
   "cell_type": "markdown",
   "metadata": {
    "id": "4pA2-sY7RSu3"
   },
   "source": [
    "Separa features e labels:"
   ]
  },
  {
   "cell_type": "code",
   "execution_count": 3,
   "metadata": {
    "id": "lRY5XblFRVE1"
   },
   "outputs": [],
   "source": [
    "features = data[:, :-3]\n",
    "labels = data[:, -3:]"
   ]
  },
  {
   "cell_type": "markdown",
   "metadata": {
    "id": "ISUkaV7VRW88"
   },
   "source": [
    "Separa dados para treinamento e para validação:"
   ]
  },
  {
   "cell_type": "code",
   "execution_count": 4,
   "metadata": {
    "id": "tDxP3hMbRagF"
   },
   "outputs": [],
   "source": [
    "featuresTrain, featuresVal, labelsTrain, labelsVal = splitData(features, labels)"
   ]
  },
  {
   "cell_type": "markdown",
   "metadata": {
    "id": "j0Q-tzTjRd9T"
   },
   "source": [
    "Normaliza features:"
   ]
  },
  {
   "cell_type": "code",
   "execution_count": 5,
   "metadata": {
    "id": "yME8mchBRgK1"
   },
   "outputs": [],
   "source": [
    "normalized_features, feature_scaler = normalize(featuresTrain)"
   ]
  },
  {
   "cell_type": "markdown",
   "metadata": {
    "id": "AqMAzGoGRlpf"
   },
   "source": [
    "Define a estrutura da rede, funções de ativação, funções de custo, épocas e learning rate:"
   ]
  },
  {
   "cell_type": "code",
   "execution_count": 6,
   "metadata": {
    "id": "M3T35_6GRtye"
   },
   "outputs": [],
   "source": [
    "# Obtém a quantidade de neurons da camada de input\n",
    "INPUT_NEURONS = len(normalized_features[0])\n",
    "\n",
    "# Define a estrutura da rede e funções de ativação\n",
    "layers = [\n",
    "    (INPUT_NEURONS, 'RELU'),\n",
    "    #(INPUT_NEURONS, 'RELU'),\n",
    "    (3, 'SOFTMAX')\n",
    "]\n",
    "\n",
    "# Definição função de custo, épocas e learning rate\n",
    "COSTF = \"CATEGORICAL_ENTROPY\"\n",
    "EPOCHS = 50\n",
    "LEARNING_RATE = 0.001"
   ]
  },
  {
   "cell_type": "markdown",
   "metadata": {
    "id": "o-7hMeAWRv4P"
   },
   "source": [
    "Inicializa os pesos e as funções das camadas:"
   ]
  },
  {
   "cell_type": "code",
   "execution_count": 7,
   "metadata": {
    "id": "HI-WErCmRz8J"
   },
   "outputs": [],
   "source": [
    "layers = initLayers(layers, INPUT_NEURONS)"
   ]
  },
  {
   "cell_type": "markdown",
   "metadata": {
    "id": "P5K5PdJVR1fL"
   },
   "source": [
    "Dispara o treinamento da rede:"
   ]
  },
  {
   "cell_type": "code",
   "execution_count": 8,
   "metadata": {
    "id": "VZ0h2vWkR5kx"
   },
   "outputs": [
    {
     "name": "stdout",
     "output_type": "stream",
     "text": [
      "1.706649571611818\n",
      "0.9830038133669472\n",
      "0.7038652326122651\n",
      "0.5900969705588498\n",
      "0.5315732387416772\n",
      "0.49550363140542997\n",
      "0.4690324609201886\n",
      "0.44789362780184855\n",
      "0.43039631438533604\n",
      "0.41532352020405616\n",
      "0.4021007593052142\n",
      "0.3903416802571183\n",
      "0.37976301382081984\n",
      "0.37009759240549384\n",
      "0.36120579249023504\n",
      "0.35297556388845874\n",
      "0.345316328867139\n",
      "0.33815415327063975\n",
      "0.33143402282013457\n",
      "0.32515772594215797\n",
      "0.31917228347400023\n",
      "0.3134587198427061\n",
      "0.30802538188676415\n",
      "0.3028050823880158\n",
      "0.2978570819507517\n",
      "0.29303983730993005\n",
      "0.28842951286519275\n",
      "0.2839092791221728\n",
      "0.27943927260521545\n",
      "0.27499266109280535\n",
      "0.2706509855433957\n",
      "0.2665717136863277\n",
      "0.2625903384430493\n",
      "0.2587975390979005\n",
      "0.2550792676138172\n",
      "0.2514613495724021\n",
      "0.24796941152840846\n",
      "0.24454247447370747\n",
      "0.24120766976867658\n",
      "0.23795423213925676\n",
      "0.2347819660285891\n",
      "0.23168292596989493\n",
      "0.22864999853258247\n",
      "0.2256909494248651\n",
      "0.22274803349720151\n",
      "0.2198151989174049\n",
      "0.21696817367379742\n",
      "0.21417235734469428\n",
      "0.2114286278606711\n",
      "0.20868413805187008\n"
     ]
    }
   ],
   "source": [
    "trainedParams = train(EPOCHS, LEARNING_RATE, layers, normalized_features, labelsTrain, COSTF)"
   ]
  },
  {
   "cell_type": "markdown",
   "metadata": {
    "id": "4FiR8cU2R6PD"
   },
   "source": [
    "Normaliza as features para validação:"
   ]
  },
  {
   "cell_type": "code",
   "execution_count": 9,
   "metadata": {
    "id": "75pETASaR-dD"
   },
   "outputs": [],
   "source": [
    "test_normalized_features = feature_scaler.transform(featuresVal)\n"
   ]
  },
  {
   "cell_type": "markdown",
   "metadata": {
    "id": "H6Zkle-RSBsf"
   },
   "source": [
    "Testa a rede treinada:"
   ]
  },
  {
   "cell_type": "code",
   "execution_count": 10,
   "metadata": {
    "id": "mk9q5ANXSE5a"
   },
   "outputs": [],
   "source": [
    "predictions = []\n",
    "for i, observation in enumerate(test_normalized_features):\n",
    "\n",
    "  input = observation\n",
    "  prediction = rna(input, trainedParams)\n",
    "\n",
    "  one_hot_prediction = np.zeros_like(prediction)\n",
    "  one_hot_prediction[np.argmax(prediction)] = 1\n",
    "\n",
    "  predictions.append(one_hot_prediction)"
   ]
  },
  {
   "cell_type": "markdown",
   "metadata": {
    "id": "9umz2_T5SHW_"
   },
   "source": [
    "Obtém métricas de avaliação:"
   ]
  },
  {
   "cell_type": "code",
   "execution_count": 11,
   "metadata": {
    "colab": {
     "base_uri": "https://localhost:8080/"
    },
    "id": "svlXly6ISLHa",
    "outputId": "9810c767-5126-4f4f-c2b8-fa79df3fb210"
   },
   "outputs": [
    {
     "name": "stdout",
     "output_type": "stream",
     "text": [
      "Evaluation Metrics:\n",
      "accuracy: 0.9565\n",
      "precision: 0.9674\n"
     ]
    }
   ],
   "source": [
    "metrics = evaluate_multiclass_with_one_hot(labelsVal, predictions)"
   ]
  }
 ],
 "metadata": {
  "colab": {
   "provenance": []
  },
  "kernelspec": {
   "display_name": "Python 3",
   "name": "python3"
  },
  "language_info": {
   "codemirror_mode": {
    "name": "ipython",
    "version": 3
   },
   "file_extension": ".py",
   "mimetype": "text/x-python",
   "name": "python",
   "nbconvert_exporter": "python",
   "pygments_lexer": "ipython3",
   "version": "3.10.12"
  }
 },
 "nbformat": 4,
 "nbformat_minor": 0
}
