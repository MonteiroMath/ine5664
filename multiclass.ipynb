{
 "cells": [
  {
   "cell_type": "code",
   "execution_count": 1,
   "metadata": {
    "id": "6PM0uQfVO-bq"
   },
   "outputs": [],
   "source": [
    "import numpy as np\n",
    "from initLayers import initLayers\n",
    "from train import train\n",
    "from rna import rna\n",
    "from utils import normalize, splitData, evaluate_multiclass_with_one_hot"
   ]
  },
  {
   "cell_type": "markdown",
   "metadata": {
    "id": "y7ukQjOeRNCH"
   },
   "source": [
    "Carrega dados do dataset"
   ]
  },
  {
   "cell_type": "code",
   "execution_count": 2,
   "metadata": {
    "id": "__5OhniPRPiz"
   },
   "outputs": [],
   "source": [
    "DATASET_PATH = 'penguins.csv'\n",
    "data = np.genfromtxt(DATASET_PATH, delimiter=',', skip_header=1)"
   ]
  },
  {
   "cell_type": "markdown",
   "metadata": {
    "id": "4pA2-sY7RSu3"
   },
   "source": [
    "Separa features e labels"
   ]
  },
  {
   "cell_type": "code",
   "execution_count": 3,
   "metadata": {
    "id": "lRY5XblFRVE1"
   },
   "outputs": [],
   "source": [
    "features = data[:, :-3]\n",
    "labels = data[:, -3:]"
   ]
  },
  {
   "cell_type": "markdown",
   "metadata": {
    "id": "ISUkaV7VRW88"
   },
   "source": [
    "Separa dados para treinamento e para validação"
   ]
  },
  {
   "cell_type": "code",
   "execution_count": 4,
   "metadata": {
    "id": "tDxP3hMbRagF"
   },
   "outputs": [],
   "source": [
    "featuresTrain, featuresVal, labelsTrain, labelsVal = splitData(features, labels)"
   ]
  },
  {
   "cell_type": "markdown",
   "metadata": {
    "id": "j0Q-tzTjRd9T"
   },
   "source": [
    "Normaliza features"
   ]
  },
  {
   "cell_type": "code",
   "execution_count": 5,
   "metadata": {
    "id": "yME8mchBRgK1"
   },
   "outputs": [],
   "source": [
    "normalized_features, feature_scaler = normalize(featuresTrain)"
   ]
  },
  {
   "cell_type": "markdown",
   "metadata": {
    "id": "f1SdYMsOSSyy"
   },
   "source": [
    "Combina features e labels e formata observações para treinamento"
   ]
  },
  {
   "cell_type": "code",
   "execution_count": null,
   "metadata": {
    "id": "o96BjcZNRkDQ"
   },
   "outputs": [],
   "source": []
  },
  {
   "cell_type": "markdown",
   "metadata": {
    "id": "AqMAzGoGRlpf"
   },
   "source": [
    "Define a estrutura da rede, funções de ativação, funções de custo, épocas e learning rate"
   ]
  },
  {
   "cell_type": "code",
   "execution_count": 6,
   "metadata": {
    "id": "M3T35_6GRtye"
   },
   "outputs": [],
   "source": [
    "# Obtém a quantidade de neurons da camada de input\n",
    "INPUT_NEURONS = len(normalized_features[0])\n",
    "\n",
    "# Define a estrutura da rede e funções de ativação\n",
    "layers = [\n",
    "    (INPUT_NEURONS, 'RELU'),\n",
    "    #(INPUT_NEURONS, 'RELU'),\n",
    "    (3, 'SOFTMAX')\n",
    "]\n",
    "\n",
    "# Definição função de custo, épocas e learning rate\n",
    "COSTF = \"CATEGORICAL_ENTROPY\"\n",
    "EPOCHS = 50\n",
    "LEARNING_RATE = 0.001"
   ]
  },
  {
   "cell_type": "markdown",
   "metadata": {
    "id": "o-7hMeAWRv4P"
   },
   "source": [
    "Inicializa os pesos e as funções das camadas"
   ]
  },
  {
   "cell_type": "code",
   "execution_count": 7,
   "metadata": {
    "id": "HI-WErCmRz8J"
   },
   "outputs": [],
   "source": [
    "layers = initLayers(layers, INPUT_NEURONS)"
   ]
  },
  {
   "cell_type": "markdown",
   "metadata": {
    "id": "P5K5PdJVR1fL"
   },
   "source": [
    "Dispara o treinamento da rede"
   ]
  },
  {
   "cell_type": "code",
   "execution_count": 8,
   "metadata": {
    "id": "VZ0h2vWkR5kx"
   },
   "outputs": [],
   "source": [
    "trainedParams = train(EPOCHS, LEARNING_RATE, layers, normalized_features, labelsTrain, COSTF)"
   ]
  },
  {
   "cell_type": "markdown",
   "metadata": {
    "id": "4FiR8cU2R6PD"
   },
   "source": [
    "Normaliza as features para validação"
   ]
  },
  {
   "cell_type": "code",
   "execution_count": 9,
   "metadata": {
    "id": "75pETASaR-dD"
   },
   "outputs": [],
   "source": [
    "test_normalized_features = feature_scaler.transform(featuresVal)\n"
   ]
  },
  {
   "cell_type": "markdown",
   "metadata": {
    "id": "H6Zkle-RSBsf"
   },
   "source": [
    "Testa a rede treinada"
   ]
  },
  {
   "cell_type": "code",
   "execution_count": 10,
   "metadata": {
    "id": "mk9q5ANXSE5a"
   },
   "outputs": [],
   "source": [
    "predictions = []\n",
    "for i, observation in enumerate(test_normalized_features):\n",
    "\n",
    "  input = observation\n",
    "  prediction = rna(input, trainedParams)\n",
    "\n",
    "  one_hot_prediction = np.zeros_like(prediction)\n",
    "  one_hot_prediction[np.argmax(prediction)] = 1\n",
    "\n",
    "  predictions.append(one_hot_prediction)"
   ]
  },
  {
   "cell_type": "markdown",
   "metadata": {
    "id": "9umz2_T5SHW_"
   },
   "source": [
    "Obtém métricas de avaliação"
   ]
  },
  {
   "cell_type": "code",
   "execution_count": 11,
   "metadata": {
    "colab": {
     "base_uri": "https://localhost:8080/"
    },
    "id": "svlXly6ISLHa",
    "outputId": "9810c767-5126-4f4f-c2b8-fa79df3fb210"
   },
   "outputs": [
    {
     "name": "stdout",
     "output_type": "stream",
     "text": [
      "Evaluation Metrics:\n",
      "accuracy: 0.9855\n",
      "precision: 0.9860\n"
     ]
    }
   ],
   "source": [
    "metrics = evaluate_multiclass_with_one_hot(labelsVal, predictions)"
   ]
  }
 ],
 "metadata": {
  "colab": {
   "provenance": []
  },
  "kernelspec": {
   "display_name": "Python 3",
   "name": "python3"
  },
  "language_info": {
   "codemirror_mode": {
    "name": "ipython",
    "version": 3
   },
   "file_extension": ".py",
   "mimetype": "text/x-python",
   "name": "python",
   "nbconvert_exporter": "python",
   "pygments_lexer": "ipython3",
   "version": "3.10.12"
  }
 },
 "nbformat": 4,
 "nbformat_minor": 0
}
