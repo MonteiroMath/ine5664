{
 "cells": [
  {
   "cell_type": "code",
   "execution_count": 1,
   "metadata": {
    "id": "6PM0uQfVO-bq"
   },
   "outputs": [],
   "source": [
    "import numpy as np\n",
    "from initLayers import initLayers\n",
    "from train import train\n",
    "from rna import rna\n",
    "from utils import normalize, splitData, evaluate_multiclass_with_one_hot"
   ]
  },
  {
   "cell_type": "markdown",
   "metadata": {
    "id": "y7ukQjOeRNCH"
   },
   "source": [
    "Carrega dados do dataset:"
   ]
  },
  {
   "cell_type": "code",
   "execution_count": 2,
   "metadata": {
    "id": "__5OhniPRPiz"
   },
   "outputs": [],
   "source": [
    "DATASET_PATH = './data/penguins.csv'\n",
    "data = np.genfromtxt(DATASET_PATH, delimiter=',', skip_header=1)"
   ]
  },
  {
   "cell_type": "markdown",
   "metadata": {
    "id": "4pA2-sY7RSu3"
   },
   "source": [
    "Separa features e labels:"
   ]
  },
  {
   "cell_type": "code",
   "execution_count": 3,
   "metadata": {
    "id": "lRY5XblFRVE1"
   },
   "outputs": [],
   "source": [
    "features = data[:, :-3]\n",
    "labels = data[:, -3:]"
   ]
  },
  {
   "cell_type": "markdown",
   "metadata": {
    "id": "ISUkaV7VRW88"
   },
   "source": [
    "Separa dados para treinamento e para validação:"
   ]
  },
  {
   "cell_type": "code",
   "execution_count": 4,
   "metadata": {
    "id": "tDxP3hMbRagF"
   },
   "outputs": [],
   "source": [
    "featuresTrain, featuresVal, labelsTrain, labelsVal = splitData(features, labels)"
   ]
  },
  {
   "cell_type": "markdown",
   "metadata": {
    "id": "j0Q-tzTjRd9T"
   },
   "source": [
    "Normaliza features:"
   ]
  },
  {
   "cell_type": "code",
   "execution_count": 5,
   "metadata": {
    "id": "yME8mchBRgK1"
   },
   "outputs": [],
   "source": [
    "normalized_features, feature_scaler = normalize(featuresTrain)"
   ]
  },
  {
   "cell_type": "markdown",
   "metadata": {
    "id": "AqMAzGoGRlpf"
   },
   "source": [
    "Define a estrutura da rede, funções de ativação, funções de custo, épocas e learning rate:"
   ]
  },
  {
   "cell_type": "code",
   "execution_count": 6,
   "metadata": {
    "id": "M3T35_6GRtye"
   },
   "outputs": [],
   "source": [
    "# Obtém a quantidade de neurons da camada de input\n",
    "INPUT_NEURONS = len(normalized_features[0])\n",
    "\n",
    "# Define a estrutura da rede e funções de ativação\n",
    "layers = [\n",
    "    (INPUT_NEURONS, 'RELU'),\n",
    "    #(INPUT_NEURONS, 'RELU'),\n",
    "    (3, 'SOFTMAX')\n",
    "]\n",
    "\n",
    "# Definição função de custo, épocas e learning rate\n",
    "COSTF = \"CATEGORICAL_ENTROPY\"\n",
    "EPOCHS = 50\n",
    "LEARNING_RATE = 0.001"
   ]
  },
  {
   "cell_type": "markdown",
   "metadata": {
    "id": "o-7hMeAWRv4P"
   },
   "source": [
    "Inicializa os pesos e as funções das camadas:"
   ]
  },
  {
   "cell_type": "code",
   "execution_count": 7,
   "metadata": {
    "id": "HI-WErCmRz8J"
   },
   "outputs": [],
   "source": [
    "layers = initLayers(layers, INPUT_NEURONS)"
   ]
  },
  {
   "cell_type": "markdown",
   "metadata": {
    "id": "P5K5PdJVR1fL"
   },
   "source": [
    "Dispara o treinamento da rede:"
   ]
  },
  {
   "cell_type": "code",
   "execution_count": 8,
   "metadata": {
    "id": "VZ0h2vWkR5kx"
   },
   "outputs": [
    {
     "name": "stdout",
     "output_type": "stream",
     "text": [
      "3.59775022988015\n",
      "2.710798305395043\n",
      "2.0942771971491236\n",
      "1.6454176716306819\n",
      "1.3130229364149484\n",
      "1.0673533057468154\n",
      "0.8890831449343203\n",
      "0.7637651893306943\n",
      "0.677082404124374\n",
      "0.6163927993683398\n",
      "0.5715744975807724\n",
      "0.5357587704449658\n",
      "0.5059150479280775\n",
      "0.48041735229855886\n",
      "0.45778019214927496\n",
      "0.4376501569933149\n",
      "0.4195926482533869\n",
      "0.4031605346561028\n",
      "0.38814790822790946\n",
      "0.37428660049646\n",
      "0.36141056511899533\n",
      "0.3494086491092535\n",
      "0.3382808079627601\n",
      "0.32787220421315766\n",
      "0.31822794097441104\n",
      "0.30931812988667295\n",
      "0.3009254807045553\n",
      "0.2930327894802525\n",
      "0.285523410158364\n",
      "0.2783829385623636\n",
      "0.2714373599197721\n",
      "0.26475811113185677\n",
      "0.258338847990954\n",
      "0.25220831922078996\n",
      "0.24626310677264282\n",
      "0.2406149035197272\n",
      "0.23519753413188166\n",
      "0.2299820516677051\n",
      "0.22494920311479205\n",
      "0.22014853248910832\n",
      "0.21554934179005444\n",
      "0.21108492833282647\n",
      "0.20677563515318417\n",
      "0.20259305316760068\n",
      "0.19850646668265226\n",
      "0.19456961084054678\n",
      "0.19076898907174003\n",
      "0.18712365554841975\n",
      "0.18369036080129283\n",
      "0.180393014402185\n"
     ]
    }
   ],
   "source": [
    "trainedParams = train(EPOCHS, LEARNING_RATE, layers, normalized_features, labelsTrain, COSTF)"
   ]
  },
  {
   "cell_type": "markdown",
   "metadata": {
    "id": "4FiR8cU2R6PD"
   },
   "source": [
    "Normaliza as features para validação:"
   ]
  },
  {
   "cell_type": "code",
   "execution_count": 9,
   "metadata": {
    "id": "75pETASaR-dD"
   },
   "outputs": [],
   "source": [
    "test_normalized_features = feature_scaler.transform(featuresVal)\n"
   ]
  },
  {
   "cell_type": "markdown",
   "metadata": {
    "id": "H6Zkle-RSBsf"
   },
   "source": [
    "Testa a rede treinada:"
   ]
  },
  {
   "cell_type": "code",
   "execution_count": 10,
   "metadata": {
    "id": "mk9q5ANXSE5a"
   },
   "outputs": [],
   "source": [
    "predictions = []\n",
    "for i, observation in enumerate(test_normalized_features):\n",
    "\n",
    "  input = observation\n",
    "  prediction = rna(input, trainedParams)\n",
    "\n",
    "  one_hot_prediction = np.zeros_like(prediction)\n",
    "  one_hot_prediction[np.argmax(prediction)] = 1\n",
    "\n",
    "  predictions.append(one_hot_prediction)"
   ]
  },
  {
   "cell_type": "markdown",
   "metadata": {
    "id": "9umz2_T5SHW_"
   },
   "source": [
    "Obtém métricas de avaliação:"
   ]
  },
  {
   "cell_type": "code",
   "execution_count": 11,
   "metadata": {
    "colab": {
     "base_uri": "https://localhost:8080/"
    },
    "id": "svlXly6ISLHa",
    "outputId": "9810c767-5126-4f4f-c2b8-fa79df3fb210"
   },
   "outputs": [
    {
     "name": "stdout",
     "output_type": "stream",
     "text": [
      "Evaluation Metrics:\n",
      "accuracy: 0.9855\n",
      "precision: 0.9860\n"
     ]
    }
   ],
   "source": [
    "metrics = evaluate_multiclass_with_one_hot(labelsVal, predictions)"
   ]
  }
 ],
 "metadata": {
  "colab": {
   "provenance": []
  },
  "kernelspec": {
   "display_name": "Python 3",
   "name": "python3"
  },
  "language_info": {
   "codemirror_mode": {
    "name": "ipython",
    "version": 3
   },
   "file_extension": ".py",
   "mimetype": "text/x-python",
   "name": "python",
   "nbconvert_exporter": "python",
   "pygments_lexer": "ipython3",
   "version": "3.10.12"
  }
 },
 "nbformat": 4,
 "nbformat_minor": 0
}
