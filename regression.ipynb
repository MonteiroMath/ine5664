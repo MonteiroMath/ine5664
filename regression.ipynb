{
 "cells": [
  {
   "cell_type": "code",
   "execution_count": null,
   "metadata": {
    "id": "sJ3gH1floRKr"
   },
   "outputs": [],
   "source": [
    "import numpy as np\n",
    "from initLayers import initLayers\n",
    "from train import train\n",
    "from rna import rna\n",
    "from utils import normalize, denormalize, splitData, evaluate_regression"
   ]
  },
  {
   "cell_type": "markdown",
   "metadata": {
    "id": "esruaOtKoU7_"
   },
   "source": [
    "Importação dos dados e separação de features e target:"
   ]
  },
  {
   "cell_type": "code",
   "execution_count": null,
   "metadata": {
    "id": "3YKyCgrSofVQ"
   },
   "outputs": [],
   "source": [
    "DATASET_PATH = './data/houses.csv'\n",
    "\n",
    "data = np.genfromtxt(DATASET_PATH, delimiter=',', skip_header=1)\n",
    "\n",
    "features = data[:, :-1] #extração de todas as colunas menos a última\n",
    "targets = data[:, -1] #extração da ultima coluna (valor a ser predito)\n",
    "targets = targets.reshape(-1, 1) #Redimensionamento do vetor targets em uma matriz de duas dimensões\n"
   ]
  },
  {
   "cell_type": "markdown",
   "metadata": {
    "id": "wZvuInWaor6G"
   },
   "source": [
    "Separação de dados de treinamento e validação:"
   ]
  },
  {
   "cell_type": "code",
   "execution_count": null,
   "metadata": {
    "id": "Xinp9TlMomYW"
   },
   "outputs": [],
   "source": [
    "featuresTrain, featuresVal, targetTrain, targetVal = splitData(features, targets) #Divisão dos dados em conjunto de treinamento (80%) e conjunto de testes (20%)"
   ]
  },
  {
   "cell_type": "markdown",
   "metadata": {
    "id": "EoId9iU0oviY"
   },
   "source": [
    "Normalização dos dados:"
   ]
  },
  {
   "cell_type": "code",
   "execution_count": null,
   "metadata": {
    "id": "WA6adDHpopgF"
   },
   "outputs": [],
   "source": [
    "normalizedFeatures, featureScaler = normalize(featuresTrain)\n",
    "normalizedTarget, targetScaler = normalize(targetTrain)"
   ]
  },
  {
   "cell_type": "markdown",
   "metadata": {
    "id": "-4RusVMko7G_"
   },
   "source": [
    "Definição da estrutura da rede, funções de ativação e hiperparâmetros:"
   ]
  },
  {
   "cell_type": "code",
   "execution_count": null,
   "metadata": {
    "id": "y3Sbe9AppB0C"
   },
   "outputs": [],
   "source": [
    "INPUT_NEURONS = len(normalizedFeatures[0])\n",
    "\n",
    "layers = [\n",
    "    (INPUT_NEURONS, 'RELU'),\n",
    "    (1, 'IDENTITY')\n",
    "]\n",
    "\n",
    "COSTF = \"MSE\"\n",
    "EPOCHS = 25\n",
    "LEARNING_RATE = 0.01\n",
    "\n",
    "# Inicialização da rede com pesos aleatórios:\n",
    "layers = initLayers(layers, INPUT_NEURONS)"
   ]
  },
  {
   "cell_type": "markdown",
   "metadata": {
    "id": "mwkAR5zqpI-v"
   },
   "source": [
    "Treinamento da rede:"
   ]
  },
  {
   "cell_type": "code",
   "execution_count": null,
   "metadata": {
    "colab": {
     "base_uri": "https://localhost:8080/"
    },
    "id": "mwnm4PnRpKL0",
    "outputId": "88c9c568-0293-40a4-d7ef-21371297f083"
   },
   "outputs": [],
   "source": [
    "trainedParams = train(EPOCHS, LEARNING_RATE, layers, normalizedFeatures, normalizedTarget, COSTF)"
   ]
  },
  {
   "cell_type": "markdown",
   "metadata": {
    "id": "0JQQXAMspKxc"
   },
   "source": [
    "Normalização dos dados de validação:"
   ]
  },
  {
   "cell_type": "code",
   "execution_count": null,
   "metadata": {
    "id": "BQNY-dxRpN2P"
   },
   "outputs": [],
   "source": [
    "testNormalizedFeatures = featureScaler.transform(featuresVal)\n"
   ]
  },
  {
   "cell_type": "markdown",
   "metadata": {
    "id": "3UJO60VCpQLp"
   },
   "source": [
    "Validação da rede:"
   ]
  },
  {
   "cell_type": "code",
   "execution_count": null,
   "metadata": {
    "id": "PRrt-BmPpT4k"
   },
   "outputs": [],
   "source": [
    "predictions = []\n",
    "for observation in testNormalizedFeatures:\n",
    "\n",
    "  input = observation\n",
    "\n",
    "  prediction = rna(input, trainedParams)\n",
    "  predictions.append(prediction)"
   ]
  },
  {
   "cell_type": "markdown",
   "metadata": {
    "id": "sY4ak9y9pXAP"
   },
   "source": [
    "Obtenção de métricas:"
   ]
  },
  {
   "cell_type": "code",
   "execution_count": null,
   "metadata": {
    "colab": {
     "base_uri": "https://localhost:8080/"
    },
    "id": "AdECHAk_pZab",
    "outputId": "05f81477-f5fe-4a3a-dda0-8f9b4e237bc9"
   },
   "outputs": [],
   "source": [
    "denormalizedPredictions = denormalize(predictions, targetScaler)\n",
    "metrics = evaluate_regression(targetVal, denormalizedPredictions)\n",
    "print(metrics)"
   ]
  }
 ],
 "metadata": {
  "colab": {
   "provenance": []
  },
  "kernelspec": {
   "display_name": "Python 3",
   "name": "python3"
  },
  "language_info": {
   "codemirror_mode": {
    "name": "ipython",
    "version": 3
   },
   "file_extension": ".py",
   "mimetype": "text/x-python",
   "name": "python",
   "nbconvert_exporter": "python",
   "pygments_lexer": "ipython3",
   "version": "3.10.12"
  }
 },
 "nbformat": 4,
 "nbformat_minor": 0
}
